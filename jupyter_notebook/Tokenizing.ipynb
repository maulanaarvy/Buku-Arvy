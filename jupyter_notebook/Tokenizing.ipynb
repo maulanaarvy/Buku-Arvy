{
 "cells": [
  {
   "cell_type": "code",
   "execution_count": null,
   "metadata": {},
   "outputs": [],
   "source": [
    "#---- Tokenizing ----\n",
    "def remove_daftar(text):\n",
    "    # remove tab, new line, and back slice\n",
    "    text = text.replace('\\\\t',\" \").replace('\\\\n',\" \").replace('\\\\u',\" \").replace('\\\\',\"\")\n",
    "    # remove non ASCII (emoticon, chinese word, .etc)\n",
    "    text = text.encode('ascii','replace').decode('ascii')\n",
    "    # remove mention, link, hashtag\n",
    "    text = ' '.join(re.sub(\"([@#][A-Za-z0-9]+)|(\\w+:\\/\\/\\S+)\",\" \",text).split())\n",
    "    # remove incomplete URL\n",
    "    return text.replace(\"http://\",\" \").replace(\"https://\",\" \")\n",
    "daftar['komentar'] = daftar['komentar'].apply(remove_daftar)"
   ]
  }
 ],
 "metadata": {
  "language_info": {
   "name": "python"
  },
  "orig_nbformat": 4
 },
 "nbformat": 4,
 "nbformat_minor": 2
}
